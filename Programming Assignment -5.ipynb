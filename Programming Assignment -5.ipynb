{
 "cells": [
  {
   "cell_type": "code",
   "execution_count": 13,
   "id": "ff1a52a7",
   "metadata": {},
   "outputs": [
    {
     "name": "stdout",
     "output_type": "stream",
     "text": [
      "Enter the first number:25\n",
      "Enter the second number:22\n",
      "LCM is: 550\n"
     ]
    }
   ],
   "source": [
    "#1.\tWrite a Python Program to Find LCM?\n",
    "\n",
    "a=int(input(\"Enter the first number:\"))\n",
    "b=int(input(\"Enter the second number:\"))\n",
    "if(a>b):\n",
    "    min1=a\n",
    "else:\n",
    "    min1=b\n",
    "while(1):\n",
    "    if(min1%a==0 and min1%b==0):\n",
    "        print(\"LCM is:\",min1)\n",
    "        break\n",
    "    min1=min1+1\n",
    "            \n",
    "            \n",
    "\n",
    "\n"
   ]
  },
  {
   "cell_type": "markdown",
   "id": "27dbf659",
   "metadata": {},
   "source": [
    "##### "
   ]
  },
  {
   "cell_type": "code",
   "execution_count": 12,
   "id": "319e5e4f",
   "metadata": {},
   "outputs": [
    {
     "name": "stdout",
     "output_type": "stream",
     "text": [
      "Enter first number22\n",
      "Enter second number8\n",
      "2\n"
     ]
    }
   ],
   "source": [
    "#2.\tWrite a Python Program to Find HCF?\n",
    "X = int(input(\"Enter first number\"))\n",
    "Y = int(input(\"Enter second number\"))\n",
    "if X>Y:\n",
    "    smaller = Y\n",
    "else:\n",
    "    smaller=X\n",
    "for i in range (1,smaller+1):\n",
    "    if((X%i ==0) and (Y%i==0)):\n",
    "         HCF = i\n",
    "print(HCF)\n",
    "        \n"
   ]
  },
  {
   "cell_type": "code",
   "execution_count": 4,
   "id": "6ab5b4d7",
   "metadata": {},
   "outputs": [
    {
     "name": "stdout",
     "output_type": "stream",
     "text": [
      "The H.C.F. is 10\n"
     ]
    }
   ],
   "source": [
    "def compute_hcf(x, y):\n",
    "\n",
    "# choose the smaller number\n",
    "    if x > y:\n",
    "        smaller = y\n",
    "    else:\n",
    "        smaller = x\n",
    "    for i in range(1, smaller+1):\n",
    "        if((x % i == 0) and (y % i == 0)):\n",
    "            hcf = i \n",
    "    return hcf\n",
    "\n",
    "num1 = 80\n",
    "num2 = 50\n",
    "\n",
    "print(\"The H.C.F. is\", compute_hcf(num1, num2))"
   ]
  },
  {
   "cell_type": "code",
   "execution_count": 21,
   "id": "d6ad1bd8",
   "metadata": {},
   "outputs": [
    {
     "name": "stdout",
     "output_type": "stream",
     "text": [
      "Enter a decimal number: \n",
      "234\n",
      "Convert into [1] binary, [2] Octal, [3] Hexadecimal: \n",
      "3\n",
      "Convert to Hexadecimal \n",
      " 0xea\n"
     ]
    }
   ],
   "source": [
    "#3.\tWrite a Python Program to Convert Decimal to Binary, Octal and Hexadecimal?\n",
    " \n",
    "decimal = int(input(\"Enter a decimal number: \\n\"))\n",
    "convert = int(input(\"Convert into [1] binary, [2] Octal, [3] Hexadecimal: \\n\"))\n",
    "\n",
    "if convert ==1:\n",
    "    print(\"Converted to Binary \\n\",bin(decimal))\n",
    "elif convert==2:\n",
    "    print(\"Converted to Octal\\n\",oct(decimal))\n",
    "elif convert ==3:\n",
    "    print(\"Convert to Hexadecimal \\n\",hex(decimal))\n",
    "else:\n",
    "    print(\"Review your input\")\n",
    "\n",
    "\n",
    "\n",
    "    \n",
    "    \n",
    "    "
   ]
  },
  {
   "cell_type": "code",
   "execution_count": 2,
   "id": "9076bc67",
   "metadata": {},
   "outputs": [
    {
     "name": "stdout",
     "output_type": "stream",
     "text": [
      "Enter the Strings12\n",
      "ASCII Value of s is 115:ASCII Value of 1 is 49:ASCII Value of 2 is 50:"
     ]
    }
   ],
   "source": [
    "#4.\tWrite a Python Program To Find ASCII value of a character?\n",
    "\n",
    "#Get the input from user\n",
    "String = input(\"Enter the String\")\n",
    "for i in String:\n",
    "    print(\"ASCII Value of\",i, \"is\", ord(i), end=\":\")"
   ]
  },
  {
   "cell_type": "code",
   "execution_count": 13,
   "id": "4528585d",
   "metadata": {},
   "outputs": [
    {
     "name": "stdout",
     "output_type": "stream",
     "text": [
      "Enter first number24\n",
      "Enter seconf number8\n",
      "Which operation to be applied [1] Sum, [2] Difference, [3] Multiplication, [4] Division2\n",
      "Subtraction is \n",
      " 16.0\n"
     ]
    }
   ],
   "source": [
    "#5.\tWrite a Python Program to Make a Simple Calculator with 4 basic mathematical operations?\n",
    "\n",
    "#Get the input from user\n",
    "Number1 = float(input(\"Enter first number\"))\n",
    "Number2 = float(input(\"Enter seconf number\"))\n",
    "\n",
    "Operation = int(input(\"Which operation to be applied [1] Sum, [2] Difference, [3] Multiplication, [4] Division\"))\n",
    "\n",
    "if Operation == 1:\n",
    "    print(\" Addition is \\n\", Number1+Number2)\n",
    "elif Operation == 2:\n",
    "    print(\"Subtraction is \\n\", Number1-Number2)\n",
    "elif Operation ==3:\n",
    "    print(\"Multiplication is \\n\", Number1*Number2)\n",
    "else:\n",
    "    print(\"Division is \\n\", Number1/Number2)"
   ]
  },
  {
   "cell_type": "code",
   "execution_count": null,
   "id": "c536768e",
   "metadata": {},
   "outputs": [],
   "source": []
  },
  {
   "cell_type": "code",
   "execution_count": null,
   "id": "e4bfe7c3",
   "metadata": {},
   "outputs": [],
   "source": []
  },
  {
   "cell_type": "code",
   "execution_count": null,
   "id": "7a47052d",
   "metadata": {},
   "outputs": [],
   "source": []
  }
 ],
 "metadata": {
  "kernelspec": {
   "display_name": "Python 3 (ipykernel)",
   "language": "python",
   "name": "python3"
  },
  "language_info": {
   "codemirror_mode": {
    "name": "ipython",
    "version": 3
   },
   "file_extension": ".py",
   "mimetype": "text/x-python",
   "name": "python",
   "nbconvert_exporter": "python",
   "pygments_lexer": "ipython3",
   "version": "3.9.7"
  }
 },
 "nbformat": 4,
 "nbformat_minor": 5
}
